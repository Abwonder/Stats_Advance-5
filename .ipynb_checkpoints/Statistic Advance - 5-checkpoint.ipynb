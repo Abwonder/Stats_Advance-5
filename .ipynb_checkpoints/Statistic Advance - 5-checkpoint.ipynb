{
 "cells": [
  {
   "cell_type": "markdown",
   "id": "6799850a",
   "metadata": {},
   "source": [
    "### Statistics Advance - 5"
   ]
  },
  {
   "cell_type": "markdown",
   "id": "18b18b10",
   "metadata": {},
   "source": [
    "### Question 1\n",
    "\n",
    "Q1. Calculate the 95% confidence interval for a sample of data with a mean of 50 and a standard deviation\n",
    "of 5 using Python. Interpret the results.\n",
    "\n",
    "Note: I assume 100 for sample size since it's not stated"
   ]
  },
  {
   "cell_type": "code",
   "execution_count": 3,
   "id": "bc6b7411",
   "metadata": {},
   "outputs": [
    {
     "name": "stdout",
     "output_type": "stream",
     "text": [
      "95% Confidence Interval: [49.01, 50.99]\n",
      "\n",
      "This means that there is a 95% confidence that the population mean will fall between 49.01 and 50.99.\n"
     ]
    }
   ],
   "source": [
    "### using python\n",
    "\n",
    "import scipy.stats as stats  ## the needed library\n",
    "\n",
    "sample_mean = 50\n",
    "sample_stddev = 5\n",
    "sample_size = 100  # assuming a sample size of 100\n",
    "\n",
    "# Calculate the standard error of the mean\n",
    "standard_error = sample_stddev / (sample_size ** 0.5)\n",
    "\n",
    "# Calculate the confidence interval\n",
    "ci = stats.t.interval(0.95, df=sample_size-1, loc=sample_mean, scale=standard_error)\n",
    "\n",
    "print(\"95% Confidence Interval: [{:.2f}, {:.2f}]\".format(ci[0], ci[1]))\n",
    "\n",
    "print('''\\nThis means that there is a 95% confidence that the population mean will fall between {:.2f} and {:.2f}.'''.format(ci[0], ci[1]))\n"
   ]
  },
  {
   "cell_type": "markdown",
   "id": "19c39e2f",
   "metadata": {},
   "source": [
    "### Question 2\n",
    "\n",
    "Q2. Conduct a chi-square goodness of fit test to determine if the distribution of colors of M&Ms in a bag\n",
    "matches the expected distribution of 20% blue, 20% orange, 20% green, 10% yellow, 10% red, and 20%\n",
    "brown. Use Python to perform the test with a significance level of 0.05.\n",
    "\n"
   ]
  },
  {
   "cell_type": "code",
   "execution_count": 10,
   "id": "4754acfe",
   "metadata": {},
   "outputs": [
    {
     "name": "stdout",
     "output_type": "stream",
     "text": [
      "chi2_statistic: 33.33, p_value: 0.0000032, alpha: 0.05\n",
      "\n",
      "We reject the null hypothesis that the observed distribution matches the expected distribution.\n"
     ]
    }
   ],
   "source": [
    "from scipy.stats import chisquare\n",
    "\n",
    "## Firstly I generated assume data for the color since its always random\n",
    "observed = [30, 40, 20, 5, 5, 50] # observed counts for blue, orange, green, yellow, red, and brown\n",
    "\n",
    "## expected is base on the experted distribution given in percentage\n",
    "expected = [0.2, 0.2, 0.2, 0.1, 0.1, 0.2] # expected proportions for blue, orange, green, yellow, red, and brown\n",
    "\n",
    "## sum of the oberved to be used to generate the expected base on the percentage\n",
    "total = sum(observed)\n",
    "\n",
    "## list comprehension to create the expected dataset\n",
    "expected_counts = [total * p for p in expected]\n",
    "\n",
    "\n",
    "## Apply the Chi-Square test\n",
    "chi2_statistic, p_value = chisquare(observed, f_exp=expected_counts)\n",
    "alpha = 0.05\n",
    "\n",
    "print(\"chi2_statistic: {:.2f}, p_value: {:.7f}, alpha: {}\\n\".format(chi2_statistic, p_value, alpha))\n",
    "\n",
    "if p_value < alpha:\n",
    "    print(\"We reject the null hypothesis that the observed distribution matches the expected distribution.\")\n",
    "else:\n",
    "    print(\"We do not have enough evidence to reject the null hypothesis that the observed distribution matches the expected distribution.\")\n",
    "    \n"
   ]
  },
  {
   "attachments": {
    "image.png": {
     "image/png": "[encoded data removed]"
    }
   },
   "cell_type": "markdown",
   "id": "d150c19a",
   "metadata": {},
   "source": [
    "### Question  3\n",
    "\n",
    "Q3. Use Python to calculate the chi-square statistic and p-value for a contingency table with the following\n",
    "data:\n",
    "\n",
    "![image.png](attachment:image.png)\n",
    "\n",
    "\n",
    "Interpret the results of the test.\n",
    "\n",
    "Hypothesis:\n",
    "\n",
    "H0: There is not significant relationship between the variables\n",
    "Ha:There is significant relationship between the variables\n"
   ]
  },
  {
   "cell_type": "code",
   "execution_count": null,
   "id": "15ad1f19",
   "metadata": {},
   "outputs": [],
   "source": []
  },
  {
   "cell_type": "code",
   "execution_count": 25,
   "id": "64a103f6",
   "metadata": {},
   "outputs": [
    {
     "name": "stdout",
     "output_type": "stream",
     "text": [
      "p value is 0.05411376622282158\n",
      "\n",
      "Fail to reject H0, there is no significant relationship between the outcomes and group (fail to reject H0)\n"
     ]
    }
   ],
   "source": [
    "### library\n",
    "from scipy.stats import chi2_contingency\n",
    "\n",
    "data = [[20, 15], [10,25], [15,20]]\n",
    "## applying formula\n",
    "stat, p, dof, expected = chi2_contingency(data)\n",
    "\n",
    "# interpret p-value\n",
    "alpha = 0.05\n",
    "print(\"p value is \" + str(p) + \"\\n\")\n",
    "if p <= alpha:\n",
    "    print('Reject H0, which mean there is significant relationship between the outcomes and group (reject H0)')\n",
    "else:\n",
    "    print('Fail to reject H0, there is no significant relationship between the outcomes and group (fail to reject H0)')\n"
   ]
  },
  {
   "cell_type": "markdown",
   "id": "d95b979b",
   "metadata": {},
   "source": [
    "### Question 4\n",
    "Q4. A study of the prevalence of smoking in a population of 500 individuals found that 60 individuals\n",
    "smoked. Use Python to calculate the 95% confidence interval for the true proportion of individuals in the\n",
    "population who smoke.\n",
    "\n",
    "\n"
   ]
  },
  {
   "cell_type": "code",
   "execution_count": 53,
   "id": "b64ca5c9",
   "metadata": {},
   "outputs": [
    {
     "name": "stdout",
     "output_type": "stream",
     "text": [
      "The true proportion smoker in the population with 95% Confidence Interval:\n",
      " (0.09151586546865079, 0.1484841345313492)\n"
     ]
    }
   ],
   "source": [
    "import math\n",
    "\n",
    "#firstly, determine the smokers proportion in the population\n",
    "p = 60/500\n",
    "z = 1.96   #critical value for 95% (1-(100-95)/2) = 0.9750\n",
    "n = 500    ## sampled population size\n",
    "\n",
    "se = math.sqrt(p*(1-p)/n)\n",
    "ci = (p - z*se, p + z*se)\n",
    "\n",
    "print(\"The true proportion smoker in the population with 95% Confidence Interval:\\n\",ci)\n"
   ]
  },
  {
   "cell_type": "markdown",
   "id": "70676c4e",
   "metadata": {},
   "source": [
    "### Question 5\n",
    "\n",
    "Q5. Calculate the 90% confidence interval for a sample of data with a mean of 75 and a standard deviation\n",
    "of 12 using Python. Interpret the results.\n"
   ]
  },
  {
   "cell_type": "code",
   "execution_count": 56,
   "id": "c4f2cc13",
   "metadata": {},
   "outputs": [
    {
     "name": "stdout",
     "output_type": "stream",
     "text": [
      "95% Confidence Interval: [73.01, 76.99]\n"
     ]
    }
   ],
   "source": [
    "# without sample size we can calculate confidence interval\n",
    "## Use 2 tail T table to get critical value\n",
    "\n",
    "# Import Library\n",
    "import scipy.stats as stat\n",
    "  \n",
    "# Calculating confidence interval\n",
    "q = 0.90  ## 90% confidence interval\n",
    "sample_mean = 75\n",
    "sample_stddev = 12\n",
    "sample_size = 100  # assuming a sample size of 100\n",
    "\n",
    "# Calculate the standard error of the mean\n",
    "standard_error = sample_stddev / (sample_size ** 0.5)\n",
    "\n",
    "# Calculate the confidence interval\n",
    "ci = stats.t.interval(q, df=sample_size-1, loc=sample_mean, scale=standard_error)\n",
    "\n",
    "print(\"95% Confidence Interval: [{:.2f}, {:.2f}]\".format(ci[0], ci[1]))\n",
    "\n",
    "# print('''\\nThis means that there is a 95% confidence that the population mean will fall between {:.2f} and {:.2f}.'''.format(ci[0], ci[1]))\n"
   ]
  },
  {
   "cell_type": "markdown",
   "id": "0dac4602",
   "metadata": {},
   "source": [
    "### Question 6\n",
    "\n",
    "Q6. Use Python to plot the chi-square distribution with 10 degrees of freedom. Label the axes and shade the\n",
    "area corresponding to a chi-square statistic of 15."
   ]
  },
  {
   "cell_type": "code",
   "execution_count": 59,
   "id": "2533f56e",
   "metadata": {},
   "outputs": [
    {
     "data": {
      "image/png": "[encoded data removed]",
      "text/plain": [
       "<Figure size 432x288 with 1 Axes>"
      ]
     },
     "metadata": {
      "needs_background": "light"
     },
     "output_type": "display_data"
    }
   ],
   "source": [
    "import numpy as np\n",
    "import matplotlib.pyplot as plt\n",
    "import scipy.stats as stats\n",
    "\n",
    "# Define the degrees of freedom\n",
    "df = 10\n",
    "\n",
    "# Create an array of x values\n",
    "x = np.linspace(0, 25, 1000)\n",
    "\n",
    "# Create the chi-square distribution with the given degrees of freedom\n",
    "chisq = stats.chi2(df)\n",
    "\n",
    "# Calculate the y values for the chi-square distribution\n",
    "y = chisq.pdf(x)\n",
    "\n",
    "# Create a plot of the chi-square distribution\n",
    "plt.plot(x, y, 'b-', linewidth=2)\n",
    "\n",
    "# Shade the area corresponding to a chi-square statistic of 15\n",
    "x_shade = np.linspace(15, 25, 1000)\n",
    "y_shade = chisq.pdf(x_shade)\n",
    "plt.fill_between(x_shade, y_shade, color='blue', alpha=0.5)\n",
    "\n",
    "# Label the axes\n",
    "plt.xlabel('Chi-Square Statistic')\n",
    "plt.ylabel('Probability Density Function')\n",
    "\n",
    "# Show the plot\n",
    "plt.show()\n"
   ]
  },
  {
   "cell_type": "markdown",
   "id": "79add03c",
   "metadata": {},
   "source": [
    "### Question 7\n",
    "\n",
    "Q7. A random sample of 1000 people was asked if they preferred Coke or Pepsi. Of the sample, 520\n",
    "preferred Coke. Calculate a 99% confidence interval for the true proportion of people in the population who\n",
    "prefer Coke.\n",
    "\n"
   ]
  },
  {
   "cell_type": "code",
   "execution_count": 13,
   "id": "f8f9e7c5",
   "metadata": {},
   "outputs": [
    {
     "name": "stdout",
     "output_type": "stream",
     "text": [
      "The true proportion smoker in the population with 95% Confidence Interval: \n",
      "(0.46, 0.58)\n"
     ]
    }
   ],
   "source": [
    "import scipy.stats as stats\n",
    "import math\n",
    "\n",
    "\n",
    "# find Z critical value for a two-tailed test with a significance level of 0.01\n",
    "z_critical = stats.norm.ppf(1 - 0.01/2)\n",
    "\n",
    "# We z table to find critical value because sample size is large\n",
    "#firstly, determine the proportion of coke lower in the population\n",
    "p = 520/1000   ###(0.52)\n",
    "z = z_critical   #critical value for 99% (1-(100-99)/2) = 0.995\n",
    "n = 500    ## sampled population size\n",
    "se = math.sqrt(p*(1-p)/n)\n",
    "ci = (p - z*se, p + z*se)\n",
    "\n",
    "print(\"The true proportion smoker in the population with 95% Confidence Interval: \\n({:.2f}, {:.2f})\".format(ci[0], ci[1]))\n"
   ]
  },
  {
   "cell_type": "markdown",
   "id": "8401fa7f",
   "metadata": {},
   "source": [
    "### Question 8\n",
    "\n",
    "Q8. A researcher hypothesizes that a coin is biased towards tails. They flip the coin 100 times and observe 45 tails. Conduct a chi-square goodness of fit test to determine if the observed frequencies match the expected frequencies of a fair coin. Use a significance level of 0.05.\n",
    "\n",
    "\n",
    "Formula:\n",
    "\n",
    "χ² = Σ (O − E)² / E\n",
    "\n",
    "\n",
    "\n",
    "Using a chi-square distribution table with 1 degree of freedom and a significance level of 0.05, we find that the critical value is 3.841. Since our calculated test statistic (1) is less than the critical value (3.841), we fail to reject the null hypothesis. This means that there is not enough evidence to conclude that the coin is biased towards tails."
   ]
  },
  {
   "cell_type": "code",
   "execution_count": 20,
   "id": "d6a36e0e",
   "metadata": {},
   "outputs": [
    {
     "name": "stdout",
     "output_type": "stream",
     "text": [
      "Ch_statistic: 1.0\n",
      "critical_value: 3.841458820694124\n",
      "\n",
      "We fail to reject the null hypothesis, This means that there is not enough evidence to conclude that the coin is biased towards tails\n"
     ]
    }
   ],
   "source": [
    "## proportion\n",
    "head = 1/2\n",
    "tail = 1/2\n",
    "\n",
    "expected_freq = (1/2) * 100\n",
    "tail_freq = 45\n",
    "head_freq = 55  ##100 - 45\n",
    "df = 2-1\n",
    "chsq = ((45 - 50)**2/50) + ((55 - 50)**2/50)\n",
    "# chsq\n",
    "\n",
    "from scipy.stats import chi2\n",
    "\n",
    "# Set the degrees of freedom and significance level\n",
    "df = 1\n",
    "alpha = 0.05\n",
    "\n",
    "# Calculate the critical value\n",
    "critical_value = chi2.ppf(1 - alpha, df)\n",
    "\n",
    "print(f\"Ch_statistic: {chsq}\")\n",
    "print(f\"critical_value: {critical_value}\\n\")\n",
    "\n",
    "if chsq < critical_value:\n",
    "    print(\"We fail to reject the null hypothesis, This means that there is not enough evidence to conclude that the coin is biased towards tails\")\n",
    "else:\n",
    "    print(\"Reject the null hypothesis, This means that there is enough evidence to conclude that the coin not biased towards tails\")"
   ]
  },
  {
   "attachments": {
    "image.png": {
     "image/png": "[encoded data removed]"
    }
   },
   "cell_type": "markdown",
   "id": "c3e6e734",
   "metadata": {},
   "source": [
    "### Question 9\n",
    "\n",
    "Q9. A study was conducted to determine if there is an association between smoking status (smoker or  non-smoker) and lung cancer diagnosis (yes or no). The results are shown in the contingency table below. Conduct a chi-square test for independence to determine if there is a significant association between\n",
    "smoking status and lung cancer diagnosis.\n",
    "\n",
    "![image.png](attachment:image.png)\n",
    "\n",
    "Use a significance level of 0.05."
   ]
  },
  {
   "cell_type": "code",
   "execution_count": 28,
   "id": "ca0d3712",
   "metadata": {},
   "outputs": [
    {
     "name": "stdout",
     "output_type": "stream",
     "text": [
      "p value is 0.0005158863863703744\n",
      "\n",
      "Reject H0, which mean there is significant relationship between smoking status and lung cancer(reject H0)\n"
     ]
    }
   ],
   "source": [
    "### library\n",
    "from scipy.stats import chi2_contingency\n",
    "\n",
    "data = [[60,140], [30,170]]\n",
    "\n",
    "## applying formula\n",
    "stat, p, dof, expected = chi2_contingency(data)\n",
    "\n",
    "# interpret p-value\n",
    "alpha = 0.05\n",
    "print(\"p value is \" + str(p) + \"\\n\")\n",
    "if p <= alpha:\n",
    "    print('Reject H0, which mean there is significant relationship between smoking status and lung cancer(reject H0)')\n",
    "else:\n",
    "    print('Fail to reject H0, there is no significant relationship between smoking status and lung cancer (fail to reject H0)')\n"
   ]
  },
  {
   "attachments": {
    "image.png": {
     "image/png": "[encoded data removed]"
    }
   },
   "cell_type": "markdown",
   "id": "401cf77b",
   "metadata": {},
   "source": [
    "### Question 10\n",
    "\n",
    "Q10. A study was conducted to determine if the proportion of people who prefer milk chocolate, dark\n",
    "chocolate, or white chocolate is different in the U.S. versus the U.K. A random sample of 500 people from\n",
    "the U.S. and a random sample of 500 people from the U.K. were surveyed. The results are shown in the\n",
    "contingency table below. Conduct a chi-square test for independence to determine if there is a significant\n",
    "association between chocolate preference and country of origin.\n",
    "\n",
    "![image.png](attachment:image.png)\n",
    "\n",
    "Use a significance level of 0.01.\n",
    "\n",
    "hypothesis:\n",
    "H0: there is no difference difference in the preference for type of chocoloate between U.S and the U.K\n",
    "Ha: there is significant difference in preference for type of chocoloate between U.S and the U.K"
   ]
  },
  {
   "cell_type": "code",
   "execution_count": 36,
   "id": "d48d5d5b",
   "metadata": {},
   "outputs": [
    {
     "name": "stdout",
     "output_type": "stream",
     "text": [
      "13.393665158371041\n",
      "p value is 0.0012348168997745918\n",
      "\n",
      "Reject H0, which mean there is no significant difference in preference for type of chocoloate between U.S and the U.K(reject H0)\n"
     ]
    }
   ],
   "source": [
    "### library\n",
    "from scipy.stats import chi2_contingency\n",
    "\n",
    "data = [[200,150, 150], [225, 175, 100]]\n",
    "\n",
    "## applying formula\n",
    "stat, p, dof, expected = chi2_contingency(data)\n",
    "print(stat)\n",
    "# interpret p-value\n",
    "alpha = 0.05\n",
    "print(\"p value is \" + str(p) + \"\\n\")\n",
    "if p <= alpha:\n",
    "    print('Reject H0, which mean there is no significant difference in preference for type of chocoloate between U.S and the U.K(reject H0)')\n",
    "else:\n",
    "    print('Fail to reject H0, there is significant difference in preference for type of chocoloate between U.S and the U.K (accept H0)')\n"
   ]
  },
  {
   "cell_type": "markdown",
   "id": "a3b057c7",
   "metadata": {},
   "source": [
    "### Question 11\n",
    "\n",
    "Q11. A random sample of 30 people was selected from a population with an unknown mean and standard\n",
    "deviation. The sample mean was found to be 72 and the sample standard deviation was found to be 10.\n",
    "Conduct a hypothesis test to determine if the population mean is significantly different from 70. Use a\n",
    "significance level of 0.05.\n",
    "\n",
    "Hypothesis:\n",
    "\n",
    "H0: population mean is not significantly different from 70\n",
    "Ha: population mean is significantly different from 70"
   ]
  },
  {
   "cell_type": "code",
   "execution_count": 35,
   "id": "72dae9b2",
   "metadata": {},
   "outputs": [
    {
     "name": "stdout",
     "output_type": "stream",
     "text": [
      "t-value: 1.0954\n",
      "p-value: 0.2823\n",
      "Fail to reject the null hypothesis\n"
     ]
    }
   ],
   "source": [
    "import scipy.stats as stats\n",
    "\n",
    "# Set up the problem\n",
    "sample_mean = 72\n",
    "sample_std_dev = 10\n",
    "sample_size = 30\n",
    "null_hypothesis_mean = 70\n",
    "alpha = 0.05\n",
    "\n",
    "# Calculate the t-value\n",
    "t_value = (sample_mean - null_hypothesis_mean) / (sample_std_dev / (sample_size ** 0.5))\n",
    "\n",
    "# Calculate the degrees of freedom\n",
    "df = sample_size - 1\n",
    "\n",
    "# Calculate the p-value\n",
    "p_value = stats.t.sf(abs(t_value), df) * 2\n",
    "\n",
    "# Check the results\n",
    "print(f\"t-value: {t_value:.4f}\")\n",
    "print(f\"p-value: {p_value:.4f}\")\n",
    "if p_value < alpha:\n",
    "    print(\"Reject the null hypothesis\")\n",
    "else:\n",
    "    print(\"Fail to reject the null hypothesis\")\n"
   ]
  },
  {
   "cell_type": "code",
   "execution_count": null,
   "id": "5ec8c918",
   "metadata": {},
   "outputs": [],
   "source": []
  }
 ],
 "metadata": {
  "kernelspec": {
   "display_name": "Python 3 (ipykernel)",
   "language": "python",
   "name": "python3"
  },
  "language_info": {
   "codemirror_mode": {
    "name": "ipython",
    "version": 3
   },
   "file_extension": ".py",
   "mimetype": "text/x-python",
   "name": "python",
   "nbconvert_exporter": "python",
   "pygments_lexer": "ipython3",
   "version": "3.9.12"
  }
 },
 "nbformat": 4,
 "nbformat_minor": 5
}
